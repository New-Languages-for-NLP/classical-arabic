{
 "cells": [
  {
   "cell_type": "markdown",
   "metadata": {
    "id": "ckjm9_-NL7Ft"
   },
   "source": [
    "# `OpenITI` Cleaning"
   ]
  },
  {
   "cell_type": "code",
   "execution_count": null,
   "metadata": {
    "id": "SWOEtIraJyfa"
   },
   "outputs": [],
   "source": [
    "import os\n",
    "import re"
   ]
  },
  {
   "cell_type": "code",
   "execution_count": null,
   "metadata": {
    "id": "_iN4f20xMJmH"
   },
   "outputs": [],
   "source": [
    "def clean(path_to_original, path_to_clean, regex, replacement):\n",
    "    '''\n",
    "    Opens `path_to_original` (= path to the original text that needs to be cleaned);\n",
    "    replaces all the matches of the `regex` with the given `replacement`;\n",
    "    pastes the cleaned text in `path_to_clean` (= new path to the clean text \n",
    "    or same path as the original text which will be then replaced);\n",
    "    prints the lengths of texts before and after cleaning (optional).\n",
    "    '''\n",
    "    with open(path_to_original, 'r+') as wrapper:\n",
    "        text = wrapper.read()\n",
    "        print('length_1:', len(text.split()))\n",
    "    new_text = re.sub(regex, replacement, text)\n",
    "    print('length_2:', len(new_text.split()))\n",
    "    with open(path_to_clean, 'w') as new_wrapper:\n",
    "        new_wrapper.write(new_text)\n",
    "    wrapper.close()\n",
    "    new_wrapper.close()"
   ]
  },
  {
   "cell_type": "code",
   "execution_count": null,
   "metadata": {
    "id": "45QKqaEqMO9-"
   },
   "outputs": [],
   "source": [
    "regex = r''\n",
    "folder = 'NAME_OF_FOLDER_WITH_ORIGINAL'\n",
    "# for multiple files use:\n",
    "# for f in f_list:\n",
    "clean(os.path.join(folder, 'PATH_TO_ORIGINAL'),\n",
    "      os.path.join(folder, 'PATH_TO_CLEAN'), regex, 'REPLACEMENT_STRING') "
   ]
  },
  {
   "cell_type": "markdown",
   "metadata": {
    "id": "QhR5TwQhMnBF"
   },
   "source": [
    "### Examples of `RegEx`"
   ]
  },
  {
   "cell_type": "code",
   "execution_count": null,
   "metadata": {
    "id": "zfX2m-A3MtQM"
   },
   "outputs": [],
   "source": [
    "# \\s + ms709\n",
    "pattern_1 = r'\\sms\\d{2,3}'"
   ]
  },
  {
   "cell_type": "code",
   "execution_count": null,
   "metadata": {
    "id": "rPf6gg56NMIe"
   },
   "outputs": [],
   "source": [
    "# pattern for PageV00P000\n",
    "pattern_2 = r'PageV\\d{2}P\\d{3}'\n",
    "# pattern_2 = r'#\\sPageV\\d{2}P\\d{3}\\n'"
   ]
  },
  {
   "cell_type": "code",
   "execution_count": null,
   "metadata": {
    "id": "mviXvAk8NPjf"
   },
   "outputs": [],
   "source": [
    "# \\n\n",
    "# #\\s[ص: 1278]\n",
    "# #\\s\n",
    "# TO BE REPLACED by a WHITE SPACE ' '\n",
    "pattern_3 = r'\\n#\\s\\[(?:.+)\\]\\n#\\s'"
   ]
  },
  {
   "cell_type": "code",
   "execution_count": null,
   "metadata": {
    "id": "Yzc6KSvMNYoJ"
   },
   "outputs": [],
   "source": [
    "# [ف 130] and [ص: 145]\n",
    "pattern_4 = r'\\[(\\D.)\\s\\d{1,3}\\]'"
   ]
  },
  {
   "cell_type": "code",
   "execution_count": null,
   "metadata": {
    "id": "XdC7Jel9Nmre"
   },
   "outputs": [],
   "source": [
    "# [ق: 180 - أ] \n",
    "pattern_5 = r'\\s\\[(?:.):\\s\\d{1,3}\\s-\\s(?:.)\\]'"
   ]
  },
  {
   "cell_type": "code",
   "execution_count": null,
   "metadata": {
    "id": "fpB3UQZZNoKS"
   },
   "outputs": [],
   "source": [
    "# (2) or (10)\n",
    "pattern_6 = r'\\(\\d{1,2}\\)'"
   ]
  },
  {
   "cell_type": "code",
   "execution_count": null,
   "metadata": {
    "id": "fK6_MBlUNq5R"
   },
   "outputs": [],
   "source": [
    "# ,\\n#\n",
    "pattern_7 = r'،\\n#'"
   ]
  },
  {
   "cell_type": "code",
   "execution_count": null,
   "metadata": {
    "id": "Pn8L2hnxNt5s"
   },
   "outputs": [],
   "source": [
    "# , ; ! « »\n",
    "pattern_8 = r'(:|,)|(\\.|،|؛)|(-)|(»|«|!)|(؟|\")'"
   ]
  }
 ],
 "metadata": {
  "colab": {
   "collapsed_sections": [],
   "name": "OpenITI_cleaning.ipynb",
   "provenance": []
  },
  "kernelspec": {
   "display_name": "Python 3",
   "language": "python",
   "name": "python3"
  },
  "language_info": {
   "codemirror_mode": {
    "name": "ipython",
    "version": 3
   },
   "file_extension": ".py",
   "mimetype": "text/x-python",
   "name": "python",
   "nbconvert_exporter": "python",
   "pygments_lexer": "ipython3",
   "version": "3.8.6"
  }
 },
 "nbformat": 4,
 "nbformat_minor": 1
}
