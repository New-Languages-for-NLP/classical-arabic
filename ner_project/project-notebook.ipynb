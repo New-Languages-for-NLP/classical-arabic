{
 "cells": [
  {
   "cell_type": "markdown",
   "metadata": {},
   "source": [
    "[![Open In Colab](https://colab.research.google.com/assets/colab-badge.svg)](https://colab.research.google.com/github/New-Languages-for-NLP/classical-arabic/blob/project-testing/ner_project/project-notebook.ipynb)\n"
   ]
  },
  {
   "cell_type": "code",
   "execution_count": 1,
   "metadata": {},
   "outputs": [],
   "source": [
    "from pathlib import Path\n",
    "import srsly\n",
    "\n",
    "project = srsly.read_yaml(\"project.yml\")"
   ]
  },
  {
   "cell_type": "code",
   "execution_count": 2,
   "metadata": {},
   "outputs": [
    {
     "data": {
      "text/plain": [
       "{'title': 'Rraining pipeline for NER in classical arabic',\n",
       " 'description': 'TODO',\n",
       " 'vars': {'base_config': 'base_config',\n",
       "  'lang': 'TODO',\n",
       "  'package_name': 'TODO',\n",
       "  'package_version': '0.0.0',\n",
       "  'gpu': -1},\n",
       " 'directories': ['assets',\n",
       "  'corpus',\n",
       "  'training',\n",
       "  'metrics',\n",
       "  'configs',\n",
       "  'packages'],\n",
       " 'assets': [{'dest': 'assets/3_inception_export',\n",
       "   'git': {'repo': 'https://github.com/New-Languages-for-NLP/classical-arabic/',\n",
       "    'branch': 'project-testing',\n",
       "    'path': '3_inception_export/clara_project_2021-11-02_1131.zip'}}],\n",
       " 'workflows': {'all': ['convert', 'install', 'train', 'evaluate']},\n",
       " 'commands': [{'name': 'install',\n",
       "   'help': 'Install classical arabic language model from file as package with entry point',\n",
       "   'script': ['pip install -e lang/TODO'],\n",
       "   'deps': ['lang/TODO']},\n",
       "  {'name': 'convert',\n",
       "   'help': \"Convert the data to spaCy's format\",\n",
       "   'script': ['mkdir -p corpus/'],\n",
       "   'deps': ['assets/3_inception_export/clara_project_2021-11-02_1131.zip'],\n",
       "   'outputs': ['corpus/clara/train.spacy']},\n",
       "  {'name': 'train',\n",
       "   'help': 'Train TODO',\n",
       "   'script': ['spacy init fill-config configs/${vars.base_config}.cfg configs/config.cfg',\n",
       "    'spacy train configs/config.cfg --output training'],\n",
       "   'deps': ['corpus/TODO/train.spacy', 'configs/${vars.base_config}.cfg'],\n",
       "   'outputs': ['training/TODO/model-best']},\n",
       "  {'name': 'evaluate',\n",
       "   'help': 'Evaluate on the test data and save the metrics',\n",
       "   'script': ['python -m spacy evaluate ./training/model-best ./corpus/clara/test.spacy --output ./metrics/TODO.json --gpu-id ${vars.gpu}'],\n",
       "   'deps': ['training/model-best', 'corpus/TODO/test.spacy'],\n",
       "   'outputs': ['metrics/TODO.json']},\n",
       "  {'name': 'clean',\n",
       "   'help': 'Remove intermediate files',\n",
       "   'script': ['rm -rf training/*', 'rm -rf metrics/*', 'rm -rf corpus/*']}]}"
      ]
     },
     "execution_count": 2,
     "metadata": {},
     "output_type": "execute_result"
    }
   ],
   "source": [
    "project"
   ]
  },
  {
   "cell_type": "code",
   "execution_count": 3,
   "metadata": {},
   "outputs": [],
   "source": [
    "#TODO widgets to adjust various sections of the project file"
   ]
  },
  {
   "cell_type": "code",
   "execution_count": 4,
   "metadata": {},
   "outputs": [],
   "source": [
    "srsly.write_yaml(\"project.yml\", project)"
   ]
  },
  {
   "cell_type": "code",
   "execution_count": null,
   "metadata": {},
   "outputs": [],
   "source": []
  }
 ],
 "metadata": {
  "kernelspec": {
   "display_name": "Python 3",
   "language": "python",
   "name": "python3"
  },
  "language_info": {
   "codemirror_mode": {
    "name": "ipython",
    "version": 3
   },
   "file_extension": ".py",
   "mimetype": "text/x-python",
   "name": "python",
   "nbconvert_exporter": "python",
   "pygments_lexer": "ipython3",
   "version": "3.7.4"
  }
 },
 "nbformat": 4,
 "nbformat_minor": 2
}
