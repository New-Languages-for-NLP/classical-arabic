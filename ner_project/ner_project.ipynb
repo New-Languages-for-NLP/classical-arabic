{
  "nbformat": 4,
  "nbformat_minor": 0,
  "metadata": {
    "kernelspec": {
      "display_name": "Python 3",
      "language": "python",
      "name": "python3"
    },
    "language_info": {
      "codemirror_mode": {
        "name": "ipython",
        "version": 3
      },
      "file_extension": ".py",
      "mimetype": "text/x-python",
      "name": "python",
      "nbconvert_exporter": "python",
      "pygments_lexer": "ipython3",
      "version": "3.8.5"
    },
    "colab": {
      "name": "ner_project.ipynb",
      "provenance": []
    },
    "accelerator": "GPU"
  },
  "cells": [
    {
      "cell_type": "code",
      "metadata": {
        "id": "vj2DaNtDOj1E",
        "outputId": "0b8fb88d-788b-418b-ffaa-6f8096a49cc6",
        "colab": {
          "base_uri": "https://localhost:8080/"
        }
      },
      "source": [
        "!pip install spacy --upgrade\n",
        "!pip install spacy-transformers"
      ],
      "execution_count": 12,
      "outputs": [
        {
          "output_type": "stream",
          "name": "stdout",
          "text": [
            "Collecting spacy-transformers\n",
            "  Downloading spacy_transformers-1.1.2-py2.py3-none-any.whl (51 kB)\n",
            "\u001b[?25l\r\u001b[K     |██████▍                         | 10 kB 24.5 MB/s eta 0:00:01\r\u001b[K     |████████████▊                   | 20 kB 24.6 MB/s eta 0:00:01\r\u001b[K     |███████████████████▏            | 30 kB 12.1 MB/s eta 0:00:01\r\u001b[K     |█████████████████████████▌      | 40 kB 9.3 MB/s eta 0:00:01\r\u001b[K     |████████████████████████████████| 51 kB 5.5 MB/s eta 0:00:01\r\u001b[K     |████████████████████████████████| 51 kB 123 kB/s \n",
            "\u001b[?25hRequirement already satisfied: srsly<3.0.0,>=2.4.0 in /usr/local/lib/python3.7/dist-packages (from spacy-transformers) (2.4.2)\n",
            "Requirement already satisfied: spacy<4.0.0,>=3.1.3 in /usr/local/lib/python3.7/dist-packages (from spacy-transformers) (3.2.0)\n",
            "Collecting transformers<4.12.0,>=3.4.0\n",
            "  Downloading transformers-4.11.3-py3-none-any.whl (2.9 MB)\n",
            "\u001b[K     |████████████████████████████████| 2.9 MB 9.9 MB/s \n",
            "\u001b[?25hCollecting spacy-alignments<1.0.0,>=0.7.2\n",
            "  Downloading spacy_alignments-0.8.4-cp37-cp37m-manylinux_2_17_x86_64.manylinux2014_x86_64.whl (1.1 MB)\n",
            "\u001b[K     |████████████████████████████████| 1.1 MB 37.6 MB/s \n",
            "\u001b[?25hRequirement already satisfied: torch>=1.6.0 in /usr/local/lib/python3.7/dist-packages (from spacy-transformers) (1.9.0+cu111)\n",
            "Requirement already satisfied: typing-extensions<4.0.0.0,>=3.7.4 in /usr/local/lib/python3.7/dist-packages (from spacy<4.0.0,>=3.1.3->spacy-transformers) (3.10.0.2)\n",
            "Requirement already satisfied: setuptools in /usr/local/lib/python3.7/dist-packages (from spacy<4.0.0,>=3.1.3->spacy-transformers) (57.4.0)\n",
            "Requirement already satisfied: wasabi<1.1.0,>=0.8.1 in /usr/local/lib/python3.7/dist-packages (from spacy<4.0.0,>=3.1.3->spacy-transformers) (0.8.2)\n",
            "Requirement already satisfied: murmurhash<1.1.0,>=0.28.0 in /usr/local/lib/python3.7/dist-packages (from spacy<4.0.0,>=3.1.3->spacy-transformers) (1.0.6)\n",
            "Requirement already satisfied: cymem<2.1.0,>=2.0.2 in /usr/local/lib/python3.7/dist-packages (from spacy<4.0.0,>=3.1.3->spacy-transformers) (2.0.6)\n",
            "Requirement already satisfied: packaging>=20.0 in /usr/local/lib/python3.7/dist-packages (from spacy<4.0.0,>=3.1.3->spacy-transformers) (21.2)\n",
            "Requirement already satisfied: typer<0.5.0,>=0.3.0 in /usr/local/lib/python3.7/dist-packages (from spacy<4.0.0,>=3.1.3->spacy-transformers) (0.4.0)\n",
            "Requirement already satisfied: tqdm<5.0.0,>=4.38.0 in /usr/local/lib/python3.7/dist-packages (from spacy<4.0.0,>=3.1.3->spacy-transformers) (4.62.3)\n",
            "Requirement already satisfied: pydantic!=1.8,!=1.8.1,<1.9.0,>=1.7.4 in /usr/local/lib/python3.7/dist-packages (from spacy<4.0.0,>=3.1.3->spacy-transformers) (1.8.2)\n",
            "Requirement already satisfied: catalogue<2.1.0,>=2.0.6 in /usr/local/lib/python3.7/dist-packages (from spacy<4.0.0,>=3.1.3->spacy-transformers) (2.0.6)\n",
            "Requirement already satisfied: preshed<3.1.0,>=3.0.2 in /usr/local/lib/python3.7/dist-packages (from spacy<4.0.0,>=3.1.3->spacy-transformers) (3.0.6)\n",
            "Requirement already satisfied: spacy-legacy<3.1.0,>=3.0.8 in /usr/local/lib/python3.7/dist-packages (from spacy<4.0.0,>=3.1.3->spacy-transformers) (3.0.8)\n",
            "Requirement already satisfied: numpy>=1.15.0 in /usr/local/lib/python3.7/dist-packages (from spacy<4.0.0,>=3.1.3->spacy-transformers) (1.19.5)\n",
            "Requirement already satisfied: blis<0.8.0,>=0.4.0 in /usr/local/lib/python3.7/dist-packages (from spacy<4.0.0,>=3.1.3->spacy-transformers) (0.4.1)\n",
            "Requirement already satisfied: langcodes<4.0.0,>=3.2.0 in /usr/local/lib/python3.7/dist-packages (from spacy<4.0.0,>=3.1.3->spacy-transformers) (3.2.1)\n",
            "Requirement already satisfied: requests<3.0.0,>=2.13.0 in /usr/local/lib/python3.7/dist-packages (from spacy<4.0.0,>=3.1.3->spacy-transformers) (2.23.0)\n",
            "Requirement already satisfied: jinja2 in /usr/local/lib/python3.7/dist-packages (from spacy<4.0.0,>=3.1.3->spacy-transformers) (2.11.3)\n",
            "Requirement already satisfied: thinc<8.1.0,>=8.0.12 in /usr/local/lib/python3.7/dist-packages (from spacy<4.0.0,>=3.1.3->spacy-transformers) (8.0.13)\n",
            "Requirement already satisfied: spacy-loggers<2.0.0,>=1.0.0 in /usr/local/lib/python3.7/dist-packages (from spacy<4.0.0,>=3.1.3->spacy-transformers) (1.0.1)\n",
            "Requirement already satisfied: pathy>=0.3.5 in /usr/local/lib/python3.7/dist-packages (from spacy<4.0.0,>=3.1.3->spacy-transformers) (0.6.1)\n",
            "Requirement already satisfied: zipp>=0.5 in /usr/local/lib/python3.7/dist-packages (from catalogue<2.1.0,>=2.0.6->spacy<4.0.0,>=3.1.3->spacy-transformers) (3.6.0)\n",
            "Requirement already satisfied: pyparsing<3,>=2.0.2 in /usr/local/lib/python3.7/dist-packages (from packaging>=20.0->spacy<4.0.0,>=3.1.3->spacy-transformers) (2.4.7)\n",
            "Requirement already satisfied: smart-open<6.0.0,>=5.0.0 in /usr/local/lib/python3.7/dist-packages (from pathy>=0.3.5->spacy<4.0.0,>=3.1.3->spacy-transformers) (5.2.1)\n",
            "Requirement already satisfied: urllib3!=1.25.0,!=1.25.1,<1.26,>=1.21.1 in /usr/local/lib/python3.7/dist-packages (from requests<3.0.0,>=2.13.0->spacy<4.0.0,>=3.1.3->spacy-transformers) (1.24.3)\n",
            "Requirement already satisfied: certifi>=2017.4.17 in /usr/local/lib/python3.7/dist-packages (from requests<3.0.0,>=2.13.0->spacy<4.0.0,>=3.1.3->spacy-transformers) (2021.10.8)\n",
            "Requirement already satisfied: chardet<4,>=3.0.2 in /usr/local/lib/python3.7/dist-packages (from requests<3.0.0,>=2.13.0->spacy<4.0.0,>=3.1.3->spacy-transformers) (3.0.4)\n",
            "Requirement already satisfied: idna<3,>=2.5 in /usr/local/lib/python3.7/dist-packages (from requests<3.0.0,>=2.13.0->spacy<4.0.0,>=3.1.3->spacy-transformers) (2.10)\n",
            "Collecting pyyaml>=5.1\n",
            "  Downloading PyYAML-6.0-cp37-cp37m-manylinux_2_5_x86_64.manylinux1_x86_64.manylinux_2_12_x86_64.manylinux2010_x86_64.whl (596 kB)\n",
            "\u001b[K     |████████████████████████████████| 596 kB 46.7 MB/s \n",
            "\u001b[?25hRequirement already satisfied: regex!=2019.12.17 in /usr/local/lib/python3.7/dist-packages (from transformers<4.12.0,>=3.4.0->spacy-transformers) (2019.12.20)\n",
            "Requirement already satisfied: filelock in /usr/local/lib/python3.7/dist-packages (from transformers<4.12.0,>=3.4.0->spacy-transformers) (3.3.2)\n",
            "Requirement already satisfied: importlib-metadata in /usr/local/lib/python3.7/dist-packages (from transformers<4.12.0,>=3.4.0->spacy-transformers) (4.8.1)\n",
            "Collecting tokenizers<0.11,>=0.10.1\n",
            "  Downloading tokenizers-0.10.3-cp37-cp37m-manylinux_2_5_x86_64.manylinux1_x86_64.manylinux_2_12_x86_64.manylinux2010_x86_64.whl (3.3 MB)\n",
            "\u001b[K     |████████████████████████████████| 3.3 MB 33.0 MB/s \n",
            "\u001b[?25hCollecting huggingface-hub>=0.0.17\n",
            "  Downloading huggingface_hub-0.1.2-py3-none-any.whl (59 kB)\n",
            "\u001b[K     |████████████████████████████████| 59 kB 6.4 MB/s \n",
            "\u001b[?25hCollecting sacremoses\n",
            "  Downloading sacremoses-0.0.46-py3-none-any.whl (895 kB)\n",
            "\u001b[K     |████████████████████████████████| 895 kB 51.9 MB/s \n",
            "\u001b[?25hRequirement already satisfied: click<9.0.0,>=7.1.1 in /usr/local/lib/python3.7/dist-packages (from typer<0.5.0,>=0.3.0->spacy<4.0.0,>=3.1.3->spacy-transformers) (7.1.2)\n",
            "Requirement already satisfied: MarkupSafe>=0.23 in /usr/local/lib/python3.7/dist-packages (from jinja2->spacy<4.0.0,>=3.1.3->spacy-transformers) (2.0.1)\n",
            "Requirement already satisfied: joblib in /usr/local/lib/python3.7/dist-packages (from sacremoses->transformers<4.12.0,>=3.4.0->spacy-transformers) (1.1.0)\n",
            "Requirement already satisfied: six in /usr/local/lib/python3.7/dist-packages (from sacremoses->transformers<4.12.0,>=3.4.0->spacy-transformers) (1.15.0)\n",
            "Installing collected packages: pyyaml, tokenizers, sacremoses, huggingface-hub, transformers, spacy-alignments, spacy-transformers\n",
            "  Attempting uninstall: pyyaml\n",
            "    Found existing installation: PyYAML 3.13\n",
            "    Uninstalling PyYAML-3.13:\n",
            "      Successfully uninstalled PyYAML-3.13\n",
            "Successfully installed huggingface-hub-0.1.2 pyyaml-6.0 sacremoses-0.0.46 spacy-alignments-0.8.4 spacy-transformers-1.1.2 tokenizers-0.10.3 transformers-4.11.3\n"
          ]
        }
      ]
    },
    {
      "cell_type": "code",
      "metadata": {
        "id": "hBRvexM2Tfyk",
        "outputId": "0588c350-8318-4cb5-c8db-a191bd4a0a5a",
        "colab": {
          "base_uri": "https://localhost:8080/"
        }
      },
      "source": [
        "git_access_token = \"\" #@param {type:\"string\"}\n",
        "git_url = f\"https://{git_access_token}@github.com/New-Languages-for-NLP/classical-arabic/\"\n",
        "\n",
        "!git clone $git_url -b project-testing"
      ],
      "execution_count": 22,
      "outputs": [
        {
          "output_type": "stream",
          "name": "stdout",
          "text": [
            "Cloning into 'classical-arabic'...\n",
            "remote: Enumerating objects: 95, done.\u001b[K\n",
            "remote: Counting objects: 100% (95/95), done.\u001b[K\n",
            "remote: Compressing objects: 100% (71/71), done.\u001b[K\n",
            "remote: Total 95 (delta 27), reused 81 (delta 15), pack-reused 0\u001b[K\n",
            "Unpacking objects: 100% (95/95), done.\n"
          ]
        }
      ]
    },
    {
      "cell_type": "code",
      "metadata": {
        "id": "X4l0IFmgOp7g",
        "outputId": "6ab1f62b-fe4e-4e56-f368-31e08c122d01",
        "colab": {
          "base_uri": "https://localhost:8080/"
        }
      },
      "source": [
        "%cd classical-arabic/ner_project/"
      ],
      "execution_count": 3,
      "outputs": [
        {
          "output_type": "stream",
          "name": "stdout",
          "text": [
            "/content/classical-arabic/ner_project\n"
          ]
        }
      ]
    },
    {
      "cell_type": "code",
      "metadata": {
        "id": "0xQXf2AgUbw0"
      },
      "source": [
        "!mkdir assets"
      ],
      "execution_count": 4,
      "outputs": []
    },
    {
      "cell_type": "code",
      "metadata": {
        "id": "9RN_Y3eVUdTT"
      },
      "source": [
        "!cp -r /content/classical-arabic/3_inception_export assets/3_inception_export"
      ],
      "execution_count": 5,
      "outputs": []
    },
    {
      "cell_type": "code",
      "metadata": {
        "id": "_HEAwYj3UidZ",
        "outputId": "412bc472-4883-48f4-8f79-d7a2a7e54bc4",
        "colab": {
          "base_uri": "https://localhost:8080/"
        }
      },
      "source": [
        "!spacy project run install"
      ],
      "execution_count": 9,
      "outputs": [
        {
          "output_type": "stream",
          "name": "stdout",
          "text": [
            "\u001b[1m\n",
            "================================== install ==================================\u001b[0m\n",
            "Running command: rm -rf lang\n",
            "Running command: mkdir lang\n",
            "Running command: mkdir lang/clara\n",
            "Running command: cp -r ../2_new_language_object/classical_arabic lang/clara\n",
            "Running command: mv lang/clara/classical_arabic lang/clara/clara\n",
            "Running command: mv lang/clara/clara/setup.py lang/clara/\n",
            "Running command: /usr/bin/python3 -m pip install -e lang/clara\n",
            "Obtaining file:///content/classical-arabic/ner_project/lang/clara\n",
            "Installing collected packages: clara\n",
            "  Running setup.py develop for clara\n",
            "Successfully installed clara-0.0.0\n"
          ]
        }
      ]
    },
    {
      "cell_type": "code",
      "metadata": {
        "id": "AWgSporqUyL-",
        "outputId": "682a8cfe-f5bb-4943-87e1-e7ccf146ce94",
        "colab": {
          "base_uri": "https://localhost:8080/"
        }
      },
      "source": [
        "!spacy project run convert"
      ],
      "execution_count": 10,
      "outputs": [
        {
          "output_type": "stream",
          "name": "stdout",
          "text": [
            "\u001b[1m\n",
            "================================== convert ==================================\u001b[0m\n",
            "Running command: mkdir -p corpus/\n",
            "Running command: unzip assets/3_inception_export/clara_project_2021-11-02_1131.zip -d corpus\n",
            "Archive:  assets/3_inception_export/clara_project_2021-11-02_1131.zip\n",
            "  inflating: corpus/event.log        \n",
            "  inflating: corpus/annotation/0597IbnJawzi.Mawducat.ShamAY0034138-CL1/maroussia.bednarkiewicz.conll  \n",
            "  inflating: corpus/annotation/0597IbnJawzi.Mawducat.ShamAY0034138-CL1/tulaibzafir.conll  \n",
            "  inflating: corpus/annotation/0597IbnJawzi.Mawducat.ShamAY0034138-CL1/ik337.conll  \n",
            "  inflating: corpus/annotation/0597IbnJawzi.Mawducat.ShamAY0034138-CL2/maroussia.bednarkiewicz.conll  \n",
            "  inflating: corpus/annotation/0597IbnJawzi.Mawducat.ShamAY0034138-CL2/tulaibzafir.conll  \n",
            "  inflating: corpus/annotation/0597IbnJawzi.Mawducat.ShamAY0034138-CL2/ik337.conll  \n",
            "  inflating: corpus/annotation/0597IbnJawzi.Mawducat.ShamAY0034138-MUB-CL-NER.conllu/maroussia.bednarkiewicz.conll  \n",
            "  inflating: corpus/annotation/0597IbnJawzi.Mawducat.ShamAY0034138-MUB-CL-NER.conllu/tulaibzafir.conll  \n",
            "  inflating: corpus/annotation/0597IbnJawzi.Mawducat.ShamAY0034138-MUB-CL-NER.conllu/ik337.conll  \n",
            "  inflating: corpus/annotation/0597IbnJawzi.Mawducat.ShamAY0034138-CL3/maroussia.bednarkiewicz.conll  \n",
            "  inflating: corpus/annotation_ser/0597IbnJawzi.Mawducat.ShamAY0034138-CL1/tulaibzafir.ser  \n",
            "  inflating: corpus/annotation_ser/0597IbnJawzi.Mawducat.ShamAY0034138-CL1/maroussia.bednarkiewicz.ser  \n",
            "  inflating: corpus/annotation_ser/0597IbnJawzi.Mawducat.ShamAY0034138-CL1/INITIAL_CAS.ser  \n",
            "  inflating: corpus/annotation_ser/0597IbnJawzi.Mawducat.ShamAY0034138-CL1/ik337.ser  \n",
            "  inflating: corpus/annotation_ser/0597IbnJawzi.Mawducat.ShamAY0034138-CL2/tulaibzafir.ser  \n",
            "  inflating: corpus/annotation_ser/0597IbnJawzi.Mawducat.ShamAY0034138-CL2/maroussia.bednarkiewicz.ser  \n",
            "  inflating: corpus/annotation_ser/0597IbnJawzi.Mawducat.ShamAY0034138-CL2/INITIAL_CAS.ser  \n",
            "  inflating: corpus/annotation_ser/0597IbnJawzi.Mawducat.ShamAY0034138-CL2/ik337.ser  \n",
            "  inflating: corpus/annotation_ser/0597IbnJawzi.Mawducat.ShamAY0034138-MUB-CL-NER.conllu/tulaibzafir.ser  \n",
            "  inflating: corpus/annotation_ser/0597IbnJawzi.Mawducat.ShamAY0034138-MUB-CL-NER.conllu/maroussia.bednarkiewicz.ser  \n",
            "  inflating: corpus/annotation_ser/0597IbnJawzi.Mawducat.ShamAY0034138-MUB-CL-NER.conllu/INITIAL_CAS.ser  \n",
            "  inflating: corpus/annotation_ser/0597IbnJawzi.Mawducat.ShamAY0034138-MUB-CL-NER.conllu/ik337.ser  \n",
            "  inflating: corpus/annotation_ser/0597IbnJawzi.Mawducat.ShamAY0034138-CL3/maroussia.bednarkiewicz.ser  \n",
            "  inflating: corpus/annotation_ser/0597IbnJawzi.Mawducat.ShamAY0034138-CL3/INITIAL_CAS.ser  \n",
            "  inflating: corpus/log/project-30.log  \n",
            "  inflating: corpus/source/0597IbnJawzi.Mawducat.ShamAY0034138-CL1  \n",
            "  inflating: corpus/source/0597IbnJawzi.Mawducat.ShamAY0034138-CL2  \n",
            "  inflating: corpus/source/0597IbnJawzi.Mawducat.ShamAY0034138-MUB-CL-NER.conllu  \n",
            "  inflating: corpus/source/0597IbnJawzi.Mawducat.ShamAY0034138-CL3  \n",
            "  inflating: corpus/exportedproject10133857348700909652.json  \n",
            "Running command: /usr/bin/python3 -m spacy convert corpus/annotation/0597IbnJawzi.Mawducat.ShamAY0034138-CL1/maroussia.bednarkiewicz.conll corpus/annotation/0597IbnJawzi.Mawducat.ShamAY0034138-CL1/ --converter conll --n-sents 10 --merge-subtokens\n",
            "\u001b[38;5;4mℹ Grouping every 10 sentences into a document.\u001b[0m\n",
            "\u001b[38;5;2m✔ Generated output file (261 documents):\n",
            "corpus/annotation/0597IbnJawzi.Mawducat.ShamAY0034138-CL1/maroussia.bednarkiewicz.spacy\u001b[0m\n",
            "Running command: /usr/bin/python3 -m spacy convert corpus/annotation/0597IbnJawzi.Mawducat.ShamAY0034138-CL2/ik337.conll corpus/annotation/0597IbnJawzi.Mawducat.ShamAY0034138-CL2/ --converter conll --n-sents 10 --merge-subtokens\n",
            "\u001b[38;5;4mℹ Grouping every 10 sentences into a document.\u001b[0m\n",
            "\u001b[38;5;2m✔ Generated output file (212 documents):\n",
            "corpus/annotation/0597IbnJawzi.Mawducat.ShamAY0034138-CL2/ik337.spacy\u001b[0m\n",
            "Running command: /usr/bin/python3 -m spacy convert corpus/annotation/0597IbnJawzi.Mawducat.ShamAY0034138-CL3/maroussia.bednarkiewicz.conll corpus/annotation/0597IbnJawzi.Mawducat.ShamAY0034138-CL3/ --converter conll --n-sents 10 --merge-subtokens\n",
            "\u001b[38;5;4mℹ Grouping every 10 sentences into a document.\u001b[0m\n",
            "\u001b[38;5;2m✔ Generated output file (198 documents):\n",
            "corpus/annotation/0597IbnJawzi.Mawducat.ShamAY0034138-CL3/maroussia.bednarkiewicz.spacy\u001b[0m\n",
            "Running command: /usr/bin/python3 -m spacy convert corpus/annotation/0597IbnJawzi.Mawducat.ShamAY0034138-MUB-CL-NER.conllu/ik337.conll corpus/annotation/0597IbnJawzi.Mawducat.ShamAY0034138-MUB-CL-NER.conllu/ --converter conll --n-sents 10 --merge-subtokens\n",
            "\u001b[38;5;4mℹ Grouping every 10 sentences into a document.\u001b[0m\n",
            "\u001b[38;5;2m✔ Generated output file (38 documents):\n",
            "corpus/annotation/0597IbnJawzi.Mawducat.ShamAY0034138-MUB-CL-NER.conllu/ik337.spacy\u001b[0m\n"
          ]
        }
      ]
    },
    {
      "cell_type": "code",
      "metadata": {
        "id": "emVgp9_fVmAy",
        "outputId": "a5725d97-d905-4060-b93e-60dd70f6fc04",
        "colab": {
          "base_uri": "https://localhost:8080/"
        }
      },
      "source": [
        "!spacy project run init-config"
      ],
      "execution_count": 13,
      "outputs": [
        {
          "output_type": "stream",
          "name": "stdout",
          "text": [
            "\u001b[1m\n",
            "================================ init-config ================================\u001b[0m\n",
            "Running command: spacy init config --lang clara --pipeline ner configs/config.cfg --force\n",
            "\u001b[38;5;4mℹ Generated config template specific for your use case\u001b[0m\n",
            "- Language: clara\n",
            "- Pipeline: ner\n",
            "- Optimize for: efficiency\n",
            "- Hardware: CPU\n",
            "- Transformer: None\n",
            "\u001b[38;5;2m✔ Auto-filled config with all values\u001b[0m\n",
            "\u001b[38;5;2m✔ Saved config\u001b[0m\n",
            "configs/config.cfg\n",
            "You can now add your data and train your pipeline:\n",
            "python -m spacy train config.cfg --paths.train ./train.spacy --paths.dev ./dev.spacy\n"
          ]
        }
      ]
    },
    {
      "cell_type": "code",
      "metadata": {
        "id": "x851mF8DVvYw",
        "outputId": "97fd02e7-e7e7-475d-873a-62706c1d6be1",
        "colab": {
          "base_uri": "https://localhost:8080/"
        }
      },
      "source": [
        "!spacy project run split-train-test"
      ],
      "execution_count": 18,
      "outputs": [
        {
          "output_type": "stream",
          "name": "stdout",
          "text": [
            "\u001b[1m\n",
            "============================== split-train-test ==============================\u001b[0m\n",
            "Running command: /usr/bin/python3 scripts/split_train_test.py -i corpus/annotation/0597IbnJawzi.Mawducat.ShamAY0034138-CL1/maroussia.bednarkiewicz.spacy -i corpus/annotation/0597IbnJawzi.Mawducat.ShamAY0034138-CL2/ik337.spacy -i corpus/annotation/0597IbnJawzi.Mawducat.ShamAY0034138-CL3/maroussia.bednarkiewicz.spacy -i corpus/annotation/0597IbnJawzi.Mawducat.ShamAY0034138-MUB-CL-NER.conllu/ik337.spacy\n"
          ]
        }
      ]
    },
    {
      "cell_type": "code",
      "metadata": {
        "id": "IydXZW6AWLdT",
        "outputId": "67c51f08-3048-436e-a4f7-00294be79a5c",
        "colab": {
          "base_uri": "https://localhost:8080/"
        }
      },
      "source": [
        "!spacy project run train"
      ],
      "execution_count": 19,
      "outputs": [
        {
          "output_type": "stream",
          "name": "stdout",
          "text": [
            "\u001b[1m\n",
            "=================================== train ===================================\u001b[0m\n",
            "Running command: /usr/bin/python3 -m spacy train configs/config.cfg --paths.train corpus/train.spacy --paths.dev corpus/test.spacy\n",
            "\u001b[38;5;4mℹ No output directory provided\u001b[0m\n",
            "\u001b[38;5;4mℹ Using CPU\u001b[0m\n",
            "\u001b[38;5;4mℹ To switch to GPU 0, use the option: --gpu-id 0\u001b[0m\n",
            "\u001b[1m\n",
            "=========================== Initializing pipeline ===========================\u001b[0m\n",
            "[2021-11-11 09:35:21,908] [INFO] Set up nlp object from config\n",
            "[2021-11-11 09:35:21,921] [INFO] Pipeline: ['tok2vec', 'ner']\n",
            "[2021-11-11 09:35:21,927] [INFO] Created vocabulary\n",
            "[2021-11-11 09:35:21,928] [INFO] Finished initializing nlp object\n",
            "[2021-11-11 09:35:25,881] [INFO] Initialized pipeline components: ['tok2vec', 'ner']\n",
            "\u001b[38;5;2m✔ Initialized pipeline\u001b[0m\n",
            "\u001b[1m\n",
            "============================= Training pipeline =============================\u001b[0m\n",
            "\u001b[38;5;4mℹ Pipeline: ['tok2vec', 'ner']\u001b[0m\n",
            "\u001b[38;5;4mℹ Initial learn rate: 0.001\u001b[0m\n",
            "E    #       LOSS TOK2VEC  LOSS NER  ENTS_F  ENTS_P  ENTS_R  SCORE \n",
            "---  ------  ------------  --------  ------  ------  ------  ------\n",
            "  0       0          0.00    179.93    0.00    0.00    0.00    0.00\n",
            "  0     200      33021.42  11385.33    0.00    0.00    0.00    0.00\n",
            "  0     400       4935.95   7274.65    0.00    0.00    0.00    0.00\n",
            "  1     600     997247.87   7465.98    0.00    0.00    0.00    0.00\n",
            "  1     800      10644.86   7056.44    0.00    0.00    0.00    0.00\n",
            "  1    1000     465596.82   8176.72    0.00    0.00    0.00    0.00\n",
            "  2    1200      14726.34   7052.56    0.00    0.00    0.00    0.00\n",
            "  2    1400      56980.02   6962.48    0.00    0.00    0.00    0.00\n",
            "  2    1600      50509.12   7554.53    0.00    0.00    0.00    0.00\n"
          ]
        }
      ]
    }
  ]
}